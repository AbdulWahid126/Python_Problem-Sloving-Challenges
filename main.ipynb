{
 "cells": [
  {
   "cell_type": "markdown",
   "metadata": {},
   "source": [
    "🔹 Problem 1: Reverse a String\n",
    "\n",
    "Write a function that takes a string as input and returns the reversed string.\n",
    "Example:\n",
    "🔹 Input: \"hello\"\n",
    "🔹 Output: \"olleh\"\n",
    "💡 Hint: Use Python's slicing feature."
   ]
  },
  {
   "cell_type": "code",
   "execution_count": null,
   "metadata": {},
   "outputs": [
    {
     "name": "stdout",
     "output_type": "stream",
     "text": [
      "olleh\n"
     ]
    }
   ],
   "source": [
    "# Problem 01\n",
    "def reverse_String():\n",
    "    text = input(\"Enter Any Value: \")\n",
    "    return text[::-1]\n",
    "print(reverse_String())"
   ]
  },
  {
   "cell_type": "markdown",
   "metadata": {},
   "source": [
    "🔹 Problem 2: Count Vowels in a String\n",
    "Write a function that counts the number of vowels (a, e, i, o, u) in a string (case-insensitive).\n",
    "Example:\n",
    "🔹 Input: \"Apple\"\n",
    "🔹 Output: 2\n",
    "💡 Hint: Use a loop and check if each character is in a set of vowels."
   ]
  },
  {
   "cell_type": "code",
   "execution_count": 18,
   "metadata": {},
   "outputs": [
    {
     "name": "stdout",
     "output_type": "stream",
     "text": [
      "Input: abdulwahid\n",
      "Output: 4\n"
     ]
    }
   ],
   "source": [
    "# Problem 02\n",
    "value = str(input(\"Enter Any Alphabatic Valur: \"))\n",
    "vowels = \"aeiou\"\n",
    "count_vowels = 0\n",
    "for i in value.lower():\n",
    "    if i in vowels:\n",
    "        count_vowels += 1\n",
    "\n",
    "print(f\"Input: {value}\")\n",
    "print(f\"Output: {count_vowels}\")\n"
   ]
  },
  {
   "cell_type": "markdown",
   "metadata": {},
   "source": [
    "🔹 Problem 3: Sum of Digits\n",
    "Write a function that takes a non-negative integer and returns the sum of its digits.\n",
    "Example:\n",
    "🔹 Input: 1234\n",
    "🔹 Output: 10\n",
    "💡 Hint: Convert the number to a string and iterate over each digit or use modulus and division."
   ]
  },
  {
   "cell_type": "code",
   "execution_count": 2,
   "metadata": {},
   "outputs": [
    {
     "name": "stdout",
     "output_type": "stream",
     "text": [
      "Input: 5869\n",
      "Output: 28\n"
     ]
    }
   ],
   "source": [
    "#Problem 03\n",
    "def Sums(num):\n",
    "    sum_Of_Num = 0\n",
    "    for i in num:\n",
    "        sum_Of_Num += int(i)\n",
    "    return sum_Of_Num\n",
    "\n",
    "num = input(\"Enter Non-Negative Number: \")\n",
    "result = Sums(num)\n",
    "print(f\"Input: {num}\")\n",
    "print(f\"Output: {result}\")"
   ]
  }
 ],
 "metadata": {
  "kernelspec": {
   "display_name": "Python 3",
   "language": "python",
   "name": "python3"
  },
  "language_info": {
   "codemirror_mode": {
    "name": "ipython",
    "version": 3
   },
   "file_extension": ".py",
   "mimetype": "text/x-python",
   "name": "python",
   "nbconvert_exporter": "python",
   "pygments_lexer": "ipython3",
   "version": "3.13.3"
  }
 },
 "nbformat": 4,
 "nbformat_minor": 2
}
