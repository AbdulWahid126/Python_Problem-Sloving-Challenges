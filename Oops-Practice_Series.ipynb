{
 "cells": [
  {
   "cell_type": "markdown",
   "metadata": {},
   "source": [
    "1. Using self\n",
    "Assignment:\n",
    "Create a class Student with attributes name and marks. Use the self keyword to initialize these values via a constructor. Add a method display() that prints student details."
   ]
  },
  {
   "cell_type": "code",
   "execution_count": 1,
   "metadata": {},
   "outputs": [
    {
     "name": "stdout",
     "output_type": "stream",
     "text": [
      "Student Name: Ali and Marks is: 74\n"
     ]
    }
   ],
   "source": [
    "# Problem 01\n",
    "\n",
    "class Student:\n",
    "    def __init__(self, name, marks):\n",
    "        self.name = name\n",
    "        self.marks = marks\n",
    "    def Display(self):\n",
    "        print(f\"Student Name: {self.name} and Marks is: {self.marks}\")\n",
    "\n",
    "std1 = Student(\"Ali\",74)\n",
    "std1.Display()\n",
    "        "
   ]
  },
  {
   "cell_type": "markdown",
   "metadata": {},
   "source": [
    "2. Using cls\n",
    "Assignment:\n",
    "Create a class Counter that keeps track of how many objects have been created. Use a class variable and a class method with cls to manage and display the count."
   ]
  },
  {
   "cell_type": "code",
   "execution_count": 3,
   "metadata": {},
   "outputs": [
    {
     "data": {
      "text/plain": [
       "'Total Object is: 3'"
      ]
     },
     "execution_count": 3,
     "metadata": {},
     "output_type": "execute_result"
    }
   ],
   "source": [
    "# Problem 02\n",
    "\n",
    "class Counter:\n",
    "    # class veriable\n",
    "    count = 0\n",
    "\n",
    "    def __init__(self):\n",
    "        Counter.count += 1\n",
    "    @classmethod\n",
    "    def count_obj(cls):\n",
    "        return f\"Total Object is: {cls.count}\"\n",
    "    \n",
    "obj1 = Counter()\n",
    "obj2 = Counter()\n",
    "obj3 = Counter()\n",
    "\n",
    "Counter.count_obj()\n",
    "        "
   ]
  },
  {
   "cell_type": "markdown",
   "metadata": {},
   "source": [
    "3. Public Variables and Methods\n",
    "Assignment:\n",
    "Create a class Car with a public variable brand and a public method start(). Instantiate the class and access both from outside the class."
   ]
  },
  {
   "cell_type": "code",
   "execution_count": 9,
   "metadata": {},
   "outputs": [
    {
     "data": {
      "text/plain": [
       "'The Car Brand is: Toyota and Car is Start'"
      ]
     },
     "execution_count": 9,
     "metadata": {},
     "output_type": "execute_result"
    }
   ],
   "source": [
    "# Problem 03\n",
    "class Car:\n",
    "    def __init__(self, brand):\n",
    "        self.brand = brand\n",
    "\n",
    "    def start(self):\n",
    "        return f\"The Car Brand is: {self.brand} and Car is Start\"\n",
    "\n",
    "car1 = Car(\"Toyota\")\n",
    "\n",
    "car1.start()"
   ]
  },
  {
   "cell_type": "markdown",
   "metadata": {},
   "source": [
    "4. Class Variables and Class Methods\n",
    "Assignment:\n",
    "Create a class Bank with a class variable bank_name. Add a class method change_bank_name(cls, name) that allows changing the bank name. Show that it affects all instances."
   ]
  },
  {
   "cell_type": "code",
   "execution_count": 13,
   "metadata": {},
   "outputs": [
    {
     "name": "stdout",
     "output_type": "stream",
     "text": [
      "Bank name is: Habib Bank Limited\n",
      "Bank name is: Meezan Bank Limited\n"
     ]
    }
   ],
   "source": [
    "# Problem 04\n",
    "class Bank:\n",
    "    bank_Name = \"Habib Bank Limited\"\n",
    "\n",
    "    @classmethod\n",
    "    def show_name(cls):\n",
    "        print(f\"Bank name is: {cls.bank_Name}\")\n",
    "\n",
    "    @classmethod\n",
    "    def change_bankName(cls, new_name):\n",
    "        cls.bank_Name = new_name\n",
    "\n",
    "\n",
    "Bank.show_name()\n",
    "Bank.change_bankName(\"Meezan Bank Limited\")\n",
    "Bank.show_name()        "
   ]
  },
  {
   "cell_type": "markdown",
   "metadata": {},
   "source": [
    "5. Static Variables and Static Methods\n",
    "Assignment:\n",
    "Create a class MathUtils with a static method add(a, b) that returns the sum. No class or instance variables should be used."
   ]
  },
  {
   "cell_type": "code",
   "execution_count": 14,
   "metadata": {},
   "outputs": [
    {
     "name": "stdout",
     "output_type": "stream",
     "text": [
      "10\n"
     ]
    }
   ],
   "source": [
    "# Problem 05 \n",
    "class MathUtils:\n",
    "\n",
    "    def Add(a,b):\n",
    "        print(a+b)\n",
    "\n",
    "MathUtils.Add(4,6)\n"
   ]
  },
  {
   "cell_type": "markdown",
   "metadata": {},
   "source": [
    "6. Constructors and Destructors\n",
    "Assignment:\n",
    "Create a class Logger that prints a message when an object is created (constructor) and another message when it is destroyed (destructor)."
   ]
  },
  {
   "cell_type": "code",
   "execution_count": 9,
   "metadata": {},
   "outputs": [
    {
     "name": "stdout",
     "output_type": "stream",
     "text": [
      "Logger Created!: Constructor Called\n",
      "Logger Distroyed!: Destructor Called\n"
     ]
    }
   ],
   "source": [
    "# Problem 06\n",
    "class Logger:\n",
    "\n",
    "    def __init__(self):\n",
    "        print(\"Logger Created!: Constructor Called\")\n",
    "\n",
    "    def __del__(self):\n",
    "        print(\"Logger Distroyed!: Destructor Called\")\n",
    "\n",
    "log = Logger()\n",
    "\n",
    "del log\n",
    "        "
   ]
  },
  {
   "cell_type": "markdown",
   "metadata": {},
   "source": [
    "7. Access Modifiers: Public, Private, and Protected\n",
    "Assignment:\n",
    "Create a class Employee with:\n",
    "\n",
    "a public variable name,\n",
    "\n",
    "a protected variable _salary, and\n",
    "\n",
    "a private variable __ssn.\n",
    "\n",
    "Try accessing all three variables from an object of the class and document what happens."
   ]
  },
  {
   "cell_type": "code",
   "execution_count": 7,
   "metadata": {},
   "outputs": [
    {
     "name": "stdout",
     "output_type": "stream",
     "text": [
      "Ali\n",
      "5000\n",
      "243576\n"
     ]
    }
   ],
   "source": [
    "# Problem 07\n",
    "class Employee:\n",
    "\n",
    "    def __init__(self, name, salary, ssn):\n",
    "        self.name = name   # Public Veriable\n",
    "        self._salary = salary   #Protected Veriable\n",
    "        self.__ssn = ssn   #Private Variable\n",
    "\n",
    "\n",
    "emp1 = Employee(\"Ali\", 5000, 243576)\n",
    "# print public veriable\n",
    "print(emp1.name)    # working correctly✔\n",
    "# print protected veriable\n",
    "print(emp1._salary)    # work, but not recommended\n",
    "# print private method\n",
    "#print(emp1.__ssn)    # attribute error because this is private method\n",
    "print(emp1._Employee__ssn) #its name mengle! don use this\n"
   ]
  },
  {
   "cell_type": "markdown",
   "metadata": {},
   "source": [
    "8. The super() Function\n",
    "Assignment:\n",
    "Create a class Person with a constructor that sets the name. Inherit a class Teacher from it, add a subject field, and use super() to call the base class constructor."
   ]
  },
  {
   "cell_type": "code",
   "execution_count": 10,
   "metadata": {},
   "outputs": [
    {
     "name": "stdout",
     "output_type": "stream",
     "text": [
      "Teacher Name: Usra, belong to English Department\n"
     ]
    }
   ],
   "source": [
    "# Problem 08:\n",
    "class Person:\n",
    "    def __init__(self, name):\n",
    "        self.name = name\n",
    "\n",
    "# inherit the person class to teacher class\n",
    "class Teacher(Person):\n",
    "    # adding a field\n",
    "    def __init__(self, name, field):\n",
    "        # use super() to call base class constructor\n",
    "        super().__init__(name)\n",
    "        self.field = field\n",
    "\n",
    "teacher1 = Teacher(\"Usra\", \"English\")\n",
    "\n",
    "print(f\"Teacher Name: {teacher1.name}, belong to {teacher1.field} Department\")"
   ]
  },
  {
   "cell_type": "markdown",
   "metadata": {},
   "source": [
    "9. Abstract Classes and Methods\n",
    "Assignment:\n",
    "Use the abc module to create an abstract class Shape with an abstract method area(). Inherit a class Rectangle that implements area()."
   ]
  },
  {
   "cell_type": "code",
   "execution_count": 12,
   "metadata": {},
   "outputs": [
    {
     "data": {
      "text/plain": [
       "48"
      ]
     },
     "execution_count": 12,
     "metadata": {},
     "output_type": "execute_result"
    }
   ],
   "source": [
    "# Problem 09:\n",
    "from abc import ABC, abstractmethod\n",
    "\n",
    "class Shape(ABC):\n",
    "    @abstractmethod\n",
    "    def area(self):\n",
    "        pass\n",
    "\n",
    "class Rectangle(Shape):\n",
    "    def area(self):\n",
    "        return 6 * 8\n",
    "    \n",
    "rec1 = Rectangle()\n",
    "rec1.area()"
   ]
  },
  {
   "cell_type": "markdown",
   "metadata": {},
   "source": [
    "10. Instance Methods\n",
    "Assignment:\n",
    "Create a class Dog with instance variables name and breed. Add an instance method bark() that prints a message including the dog's name."
   ]
  },
  {
   "cell_type": "code",
   "execution_count": 15,
   "metadata": {},
   "outputs": [
    {
     "name": "stdout",
     "output_type": "stream",
     "text": [
      "Dog name is: Tommy, Breed of: Labrador, Sound like Wao Wao!\n"
     ]
    }
   ],
   "source": [
    "# Problem 10:\n",
    "class Dog:\n",
    "    def __init__(self, name, breed):\n",
    "        self.name = name    #instance veriable\n",
    "        self.breed = breed    #instance veriable\n",
    "    \n",
    "    def Bark(self):\n",
    "        print(f\"Dog name is: {self.name}, Breed of: {self.breed}, Sound like Wao Wao!\")\n",
    "\n",
    "dog1 = Dog(\"Tommy\", \"Labrador\")\n",
    "dog1.Bark()"
   ]
  },
  {
   "cell_type": "markdown",
   "metadata": {},
   "source": [
    "11. Class Methods\n",
    "Assignment:\n",
    "Create a class Book with a class variable total_books. Add a class method increment_book_count() to increase the count when a new book is added."
   ]
  },
  {
   "cell_type": "code",
   "execution_count": 4,
   "metadata": {},
   "outputs": [
    {
     "name": "stdout",
     "output_type": "stream",
     "text": [
      "Total Books: 2\n"
     ]
    }
   ],
   "source": [
    "# Problem 11\n",
    "class Book:\n",
    "    \n",
    "    total_books = 0\n",
    "\n",
    "    @classmethod\n",
    "    def increment_book_count(cls):\n",
    "        cls.total_books +=  1\n",
    "\n",
    "book1 = Book()\n",
    "book1.increment_book_count()\n",
    "book2 = Book()\n",
    "book2.increment_book_count()\n",
    "\n",
    "print(f\"Total Books: {book1.total_books}\")"
   ]
  },
  {
   "cell_type": "markdown",
   "metadata": {},
   "source": [
    "12. Static Methods\n",
    "Assignment:\n",
    "Create a class TemperatureConverter with a static method celsius_to_fahrenheit(c) that returns the Fahrenheit value."
   ]
  },
  {
   "cell_type": "code",
   "execution_count": 5,
   "metadata": {},
   "outputs": [
    {
     "name": "stdout",
     "output_type": "stream",
     "text": [
      "87.8\n"
     ]
    }
   ],
   "source": [
    "# Problem 12\n",
    "class TemperatureConverter:\n",
    "\n",
    "    @staticmethod\n",
    "    def celsius_to_fehrenheitr(c):\n",
    "        return (c * 9/5) + 32\n",
    "\n",
    "print(TemperatureConverter.celsius_to_fehrenheitr(31))"
   ]
  },
  {
   "cell_type": "markdown",
   "metadata": {},
   "source": [
    "13. Composition\n",
    "Assignment:\n",
    "Create a class Engine and a class Car. Use composition by passing an Engine object to the Car class during initialization. Access a method of the Engine class via the Car class.\n",
    "\n"
   ]
  },
  {
   "cell_type": "code",
   "execution_count": 5,
   "metadata": {},
   "outputs": [
    {
     "name": "stdout",
     "output_type": "stream",
     "text": [
      "Engine Started!\n"
     ]
    }
   ],
   "source": [
    "# problem 13\n",
    "class Engine:\n",
    "    def start(self):\n",
    "        return \"Engine Started!\"\n",
    "\n",
    "class Car:\n",
    "    def __init__(self, engine):\n",
    "        self.engine = engine\n",
    "\n",
    "    def start_car(self):\n",
    "        return self.engine.start()\n",
    "\n",
    "e = Engine()\n",
    "\n",
    "car1 = Car(e)\n",
    "print(car1.start_car())"
   ]
  },
  {
   "cell_type": "markdown",
   "metadata": {},
   "source": [
    "14. Aggregation\n",
    "Assignment:\n",
    "Create a class Department and a class Employee. Use aggregation by having a Department object store a reference to an Employee object that exists independently of it."
   ]
  },
  {
   "cell_type": "code",
   "execution_count": 7,
   "metadata": {},
   "outputs": [
    {
     "name": "stdout",
     "output_type": "stream",
     "text": [
      "AbdulWahid\n"
     ]
    }
   ],
   "source": [
    "# Problem 14\n",
    "class Employee:\n",
    "    def __init__(self, name):\n",
    "        self.name = name\n",
    "\n",
    "class Department:\n",
    "    def __init__(self, employee):\n",
    "        self.employee = employee\n",
    "\n",
    "emp = Employee(\"AbdulWahid\")\n",
    "\n",
    "dept = Department(emp)\n",
    "print(dept.employee.name)"
   ]
  },
  {
   "cell_type": "markdown",
   "metadata": {},
   "source": [
    "15. Method Resolution Order (MRO) and Diamond Inheritance\n",
    "Assignment:\n",
    "Create four classes:\n",
    "\n",
    "A with a method show(),\n",
    "\n",
    "B and C that inherit from A and override show(),\n",
    "\n",
    "D that inherits from both B and C.\n",
    "\n",
    "Create an object of D and call show() to observe MRO."
   ]
  },
  {
   "cell_type": "code",
   "execution_count": 11,
   "metadata": {},
   "outputs": [
    {
     "name": "stdout",
     "output_type": "stream",
     "text": [
      "Show B\n",
      "(<class '__main__.D'>, <class '__main__.B'>, <class '__main__.C'>, <class '__main__.A'>, <class 'object'>)\n"
     ]
    }
   ],
   "source": [
    "# Problem 15\n",
    "\n",
    "class A:\n",
    "    def show(self):\n",
    "        print(\"Show A\")\n",
    "\n",
    "class B(A):\n",
    "    def show(self):\n",
    "        print(\"Show B\")\n",
    "\n",
    "class C(A):\n",
    "    def show(self):\n",
    "        print(\"Show C\")\n",
    "\n",
    "class D(B, C):\n",
    "    pass\n",
    "\n",
    "obj = D()\n",
    "obj.show()\n",
    "\n",
    "print(D.__mro__)"
   ]
  },
  {
   "cell_type": "markdown",
   "metadata": {},
   "source": [
    "16. Function Decorators\n",
    "Assignment:\n",
    "Write a decorator function log_function_call that prints \"Function is being called\" before a function executes. Apply it to a function say_hello()."
   ]
  },
  {
   "cell_type": "code",
   "execution_count": 16,
   "metadata": {},
   "outputs": [
    {
     "name": "stdout",
     "output_type": "stream",
     "text": [
      "Function is being called\n",
      "Hello Wahid!\n"
     ]
    }
   ],
   "source": [
    "# Problem 16\n",
    "\n",
    "def log_function_call(func):\n",
    "    def wrapper():\n",
    "        print(\"Function is being called\")\n",
    "        return func()\n",
    "    return wrapper\n",
    "\n",
    "@log_function_call\n",
    "def say_hello():\n",
    "    print(\"Hello Wahid!\")\n",
    "\n",
    "say_hello()"
   ]
  },
  {
   "cell_type": "markdown",
   "metadata": {},
   "source": [
    "17. Class Decorators\n",
    "Assignment:\n",
    "Create a class decorator add_greeting that modifies a class to add a greet() method returning \"Hello from Decorator!\". Apply it to a class Person."
   ]
  },
  {
   "cell_type": "code",
   "execution_count": 5,
   "metadata": {},
   "outputs": [
    {
     "name": "stdout",
     "output_type": "stream",
     "text": [
      "Hello from Decorator!\n"
     ]
    }
   ],
   "source": [
    "# Problem 17\n",
    "\n",
    "def add_greeting(cls):\n",
    "    def greet(self):\n",
    "        print(\"Hello from Decorator!\")\n",
    "\n",
    "    cls.greet = greet\n",
    "    return cls\n",
    "\n",
    "@add_greeting\n",
    "class Person:\n",
    "    def __init__(self, name):\n",
    "        self.name = name\n",
    "\n",
    "p1 = Person(\"Ali\")\n",
    "p1.greet()"
   ]
  },
  {
   "cell_type": "markdown",
   "metadata": {},
   "source": [
    "18. Property Decorators: @property, @setter, and @deleter\n",
    "Assignment:\n",
    "Create a class Product with a private attribute _price. Use @property to get the price, @price.setter to update it, and @price.deleter to delete it."
   ]
  },
  {
   "cell_type": "code",
   "execution_count": 13,
   "metadata": {},
   "outputs": [
    {
     "name": "stdout",
     "output_type": "stream",
     "text": [
      "500\n",
      "650\n",
      "Price Delete...\n"
     ]
    }
   ],
   "source": [
    "# Problem 18:\n",
    "class Product:\n",
    "    def __init__(self, price):\n",
    "        self._price = price\n",
    "\n",
    "    @property\n",
    "    def price(self):\n",
    "        return self._price\n",
    "    \n",
    "    @price.setter\n",
    "    def price(self, value):\n",
    "        if value < 0:\n",
    "            raise ValueError(\"Price Can not be Negative!\")\n",
    "        self._price = value\n",
    "\n",
    "    @price.deleter\n",
    "    def price(self):\n",
    "        print(\"Price Delete...\")\n",
    "        del self._price\n",
    "\n",
    "p = Product(500)\n",
    "print(p.price)\n",
    "\n",
    "# Update price\n",
    "p.price = 650\n",
    "print(p.price)\n",
    "\n",
    "# Delete Price\n",
    "del p.price"
   ]
  },
  {
   "cell_type": "markdown",
   "metadata": {},
   "source": [
    "19. callable() and __call__()\n",
    "Assignment:\n",
    "Create a class Multiplier with an __init__() to set a factor. Define a __call__() method that multiplies an input by the factor. Test it with callable() and by calling the object like a function."
   ]
  },
  {
   "cell_type": "code",
   "execution_count": null,
   "metadata": {},
   "outputs": [],
   "source": []
  },
  {
   "cell_type": "markdown",
   "metadata": {},
   "source": [
    "20. Creating a Custom Exception\n",
    "Assignment:\n",
    "Create a custom exception InvalidAgeError. Write a function check_age(age) that raises this exception if age < 18. Handle it with try...except."
   ]
  },
  {
   "cell_type": "code",
   "execution_count": null,
   "metadata": {},
   "outputs": [],
   "source": []
  },
  {
   "cell_type": "markdown",
   "metadata": {},
   "source": [
    "21. Make a Custom Class Iterable\n",
    "Assignment:\n",
    "Create a class Countdown that takes a start number. Implement __iter__() and __next__() to make the object iterable in a for-loop, counting down to 0."
   ]
  },
  {
   "cell_type": "code",
   "execution_count": null,
   "metadata": {},
   "outputs": [],
   "source": []
  }
 ],
 "metadata": {
  "kernelspec": {
   "display_name": "Python 3",
   "language": "python",
   "name": "python3"
  },
  "language_info": {
   "codemirror_mode": {
    "name": "ipython",
    "version": 3
   },
   "file_extension": ".py",
   "mimetype": "text/x-python",
   "name": "python",
   "nbconvert_exporter": "python",
   "pygments_lexer": "ipython3",
   "version": "3.13.3"
  }
 },
 "nbformat": 4,
 "nbformat_minor": 2
}
